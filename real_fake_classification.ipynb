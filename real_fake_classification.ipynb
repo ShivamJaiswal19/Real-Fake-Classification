{
  "nbformat": 4,
  "nbformat_minor": 0,
  "metadata": {
    "colab": {
      "provenance": [],
      "include_colab_link": true
    },
    "kernelspec": {
      "name": "python3",
      "display_name": "Python 3"
    },
    "language_info": {
      "name": "python"
    }
  },
  "cells": [
    {
      "cell_type": "markdown",
      "metadata": {
        "id": "view-in-github",
        "colab_type": "text"
      },
      "source": [
        "<a href=\"https://colab.research.google.com/github/ShivamJaiswal19/Real-Fake-Classification/blob/main/real_fake_classification.ipynb\" target=\"_parent\"><img src=\"https://colab.research.google.com/assets/colab-badge.svg\" alt=\"Open In Colab\"/></a>"
      ]
    },
    {
      "cell_type": "markdown",
      "source": [
        "## Importing Packages"
      ],
      "metadata": {
        "id": "X6iGaiA6bZe1"
      }
    },
    {
      "cell_type": "code",
      "execution_count": null,
      "metadata": {
        "id": "KI-QlQRzTLWG"
      },
      "outputs": [],
      "source": [
        "import pandas as pd\n",
        "import numpy as np\n",
        "import tensorflow as tf"
      ]
    },
    {
      "cell_type": "markdown",
      "source": [
        "## Installing Dataset"
      ],
      "metadata": {
        "id": "sQZiFkwHbVPc"
      }
    },
    {
      "cell_type": "code",
      "source": [
        "#Install packages => \n",
        "!pip install kaggle #Install Kaggle\n",
        "!mkdir -p ~/.kaggle # create a directory Kaggle \n",
        "!cp kaggle.json ~/.kaggle/ # copy kaggle.json to above directory \n",
        "!chmod +x ~/.kaggle/kaggle.json # Permission to a particular folder\n",
        "!kaggle datasets download -d birdy654/cifake-real-and-ai-generated-synthetic-images"
      ],
      "metadata": {
        "id": "4Fp9d5wZTYSs"
      },
      "execution_count": null,
      "outputs": []
    },
    {
      "cell_type": "code",
      "source": [
        "!unzip /content/cifake-real-and-ai-generated-synthetic-images.zip"
      ],
      "metadata": {
        "id": "yEUNsMLdbgkT"
      },
      "execution_count": null,
      "outputs": []
    },
    {
      "cell_type": "markdown",
      "source": [
        "## Data Analysis "
      ],
      "metadata": {
        "id": "JUFYbWv3cHpC"
      }
    },
    {
      "cell_type": "code",
      "source": [
        "import glob\n",
        "training_fake_images = glob.glob('/content/train/FAKE/*.jpg')\n",
        "print(len(training_fake_images))\n",
        "\n",
        "traning_real_images = glob.glob('/content/train/REAL/*.jpg')\n",
        "print(len(traning_real_images))"
      ],
      "metadata": {
        "colab": {
          "base_uri": "https://localhost:8080/"
        },
        "id": "NhNoPaU-bk28",
        "outputId": "12f5c728-cb19-4a5c-bb2a-89f09ead1f36"
      },
      "execution_count": null,
      "outputs": [
        {
          "output_type": "stream",
          "name": "stdout",
          "text": [
            "50000\n",
            "50000\n"
          ]
        }
      ]
    },
    {
      "cell_type": "code",
      "source": [
        "def "
      ],
      "metadata": {
        "id": "fN3a_LHNcXqn"
      },
      "execution_count": null,
      "outputs": []
    }
  ]
}